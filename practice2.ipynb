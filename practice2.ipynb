{
 "cells": [
  {
   "cell_type": "code",
   "execution_count": 1,
   "id": "9360ba8a",
   "metadata": {},
   "outputs": [
    {
     "name": "stdout",
     "output_type": "stream",
     "text": [
      "Shibu\n"
     ]
    }
   ],
   "source": [
    "name=\"Shibu\"\n",
    "print(name)"
   ]
  },
  {
   "cell_type": "code",
   "execution_count": 2,
   "id": "956b6659",
   "metadata": {},
   "outputs": [
    {
     "name": "stdout",
     "output_type": "stream",
     "text": [
      "Shibu\n"
     ]
    }
   ],
   "source": [
    "print(name[0::])"
   ]
  },
  {
   "cell_type": "code",
   "execution_count": 3,
   "id": "b7dd6b8f",
   "metadata": {},
   "outputs": [
    {
     "name": "stdout",
     "output_type": "stream",
     "text": [
      "ubihS\n"
     ]
    }
   ],
   "source": [
    "print(name[::-1])"
   ]
  },
  {
   "cell_type": "code",
   "execution_count": 4,
   "id": "d6599fc4",
   "metadata": {},
   "outputs": [
    {
     "name": "stdout",
     "output_type": "stream",
     "text": [
      "67\n",
      "False\n",
      "True\n"
     ]
    }
   ],
   "source": [
    "story=\"shibu is a good girl.she is also inteligence girl.she always stydes\"\n",
    "#string function\n",
    "print(len(story))\n",
    "print(story.endswith(\"she\"))\n",
    "print(story.endswith(\"stydes\"))"
   ]
  },
  {
   "cell_type": "code",
   "execution_count": 5,
   "id": "6b063c2d",
   "metadata": {},
   "outputs": [
    {
     "name": "stdout",
     "output_type": "stream",
     "text": [
      "1\n"
     ]
    }
   ],
   "source": [
    "print(story.count(\"stydes\"))"
   ]
  },
  {
   "cell_type": "code",
   "execution_count": 6,
   "id": "e6ad2033",
   "metadata": {},
   "outputs": [
    {
     "name": "stdout",
     "output_type": "stream",
     "text": [
      "Shibu is a good girl.she is also inteligence girl.she always stydes\n"
     ]
    }
   ],
   "source": [
    "print(story.capitalize())"
   ]
  },
  {
   "cell_type": "code",
   "execution_count": 7,
   "id": "4825917a",
   "metadata": {},
   "outputs": [
    {
     "name": "stdout",
     "output_type": "stream",
     "text": [
      "0\n"
     ]
    }
   ],
   "source": [
    "print(story.find(\"shibu\"))"
   ]
  },
  {
   "cell_type": "code",
   "execution_count": 8,
   "id": "7f040e66",
   "metadata": {},
   "outputs": [
    {
     "name": "stdout",
     "output_type": "stream",
     "text": [
      "-1\n"
     ]
    }
   ],
   "source": [
    "print(story.find(\"simran\"))"
   ]
  },
  {
   "cell_type": "code",
   "execution_count": 9,
   "id": "58b2334e",
   "metadata": {},
   "outputs": [
    {
     "name": "stdout",
     "output_type": "stream",
     "text": [
      "simran is a good girl.she is also inteligence girl.she always stydes\n"
     ]
    }
   ],
   "source": [
    "print(story.replace(\"shibu\",\"simran\"))"
   ]
  },
  {
   "cell_type": "code",
   "execution_count": 10,
   "id": "85e3d390",
   "metadata": {},
   "outputs": [
    {
     "name": "stdout",
     "output_type": "stream",
     "text": [
      "simran is very inteligence girl.\n",
      "also beautiful\n"
     ]
    }
   ],
   "source": [
    "r=\"simran is very inteligence girl.\\nalso beautiful\"\n",
    "print(r)"
   ]
  },
  {
   "cell_type": "markdown",
   "id": "376c5ec4",
   "metadata": {},
   "source": [
    "# Skip"
   ]
  },
  {
   "cell_type": "code",
   "execution_count": null,
   "id": "e4ceac44",
   "metadata": {},
   "outputs": [],
   "source": []
  },
  {
   "cell_type": "code",
   "execution_count": 11,
   "id": "73a71ab0",
   "metadata": {},
   "outputs": [
    {
     "name": "stdout",
     "output_type": "stream",
     "text": [
      "h\n",
      "Siu\n",
      "Sb\n",
      "hib\n",
      "hb\n"
     ]
    }
   ],
   "source": [
    "S=\"Shibu\"\n",
    "print(S[1:2:3])\n",
    "print(S[0::2])\n",
    "print(S[0::3])\n",
    "print(S[1:4:1])\n",
    "print(S[1:4:2])"
   ]
  },
  {
   "cell_type": "code",
   "execution_count": 12,
   "id": "dab24051",
   "metadata": {},
   "outputs": [
    {
     "name": "stdout",
     "output_type": "stream",
     "text": [
      "Shib\n"
     ]
    }
   ],
   "source": [
    "print(S[0:4])"
   ]
  },
  {
   "cell_type": "code",
   "execution_count": 13,
   "id": "d182052f",
   "metadata": {},
   "outputs": [
    {
     "name": "stdout",
     "output_type": "stream",
     "text": [
      "Enter your name: shibu\n",
      "Good Afternoon,shibu\n"
     ]
    }
   ],
   "source": [
    "name=input(\"Enter your name: \")\n",
    "print(\"Good Afternoon,\"+name)"
   ]
  },
  {
   "cell_type": "code",
   "execution_count": 17,
   "id": "e3fae299",
   "metadata": {},
   "outputs": [
    {
     "name": "stdout",
     "output_type": "stream",
     "text": [
      "Enter your Name\n",
      "Simran\n",
      "Enter Date\n",
      "33 jan\n",
      "Dear Simran,\n",
      "You are selected!\n",
      "\n",
      "Date:33 jan\n",
      "\n"
     ]
    }
   ],
   "source": [
    "letter='''Dear <|NAME|>,\n",
    "You are selected!\n",
    "\n",
    "Date:<|DATE|>\n",
    "'''\n",
    "\n",
    "name=input(\"Enter your Name\\n\")\n",
    "date=input(\"Enter Date\\n\")\n",
    "letter=letter.replace(\"<|NAME|>\",name)\n",
    "letter=letter.replace(\"<|DATE|>\",date)\n",
    "print(letter)\n"
   ]
  },
  {
   "cell_type": "code",
   "execution_count": 21,
   "id": "3d58190d",
   "metadata": {},
   "outputs": [
    {
     "name": "stdout",
     "output_type": "stream",
     "text": [
      "Enter your name: shibu\n",
      "shibu\n"
     ]
    }
   ],
   "source": [
    "s=input(\"Enter your name: \")\n",
    "print(s)"
   ]
  },
  {
   "cell_type": "code",
   "execution_count": 22,
   "id": "808d04d4",
   "metadata": {},
   "outputs": [
    {
     "name": "stdout",
     "output_type": "stream",
     "text": [
      "Enter your value: 6\n",
      "6\n"
     ]
    }
   ],
   "source": [
    "r=input(\"Enter your value: \")\n",
    "print(r)"
   ]
  },
  {
   "cell_type": "code",
   "execution_count": null,
   "id": "fc4744f5",
   "metadata": {},
   "outputs": [],
   "source": []
  }
 ],
 "metadata": {
  "kernelspec": {
   "display_name": "Python 3",
   "language": "python",
   "name": "python3"
  },
  "language_info": {
   "codemirror_mode": {
    "name": "ipython",
    "version": 3
   },
   "file_extension": ".py",
   "mimetype": "text/x-python",
   "name": "python",
   "nbconvert_exporter": "python",
   "pygments_lexer": "ipython3",
   "version": "3.8.8"
  }
 },
 "nbformat": 4,
 "nbformat_minor": 5
}
