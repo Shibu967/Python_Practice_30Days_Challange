{
 "cells": [
  {
   "cell_type": "code",
   "execution_count": 1,
   "id": "fad29237",
   "metadata": {},
   "outputs": [
    {
     "name": "stdout",
     "output_type": "stream",
     "text": [
      " The value of a is greater than 4\n"
     ]
    }
   ],
   "source": [
    "a=23\n",
    "if(a>4):\n",
    "    print(\" The value of a is greater than 4\")\n",
    "elif(a>8):\n",
    "    print(\" The value of a is greater than 8\")\n",
    "else:\n",
    "    print(\"The value is greater than 3 or 7\")\n",
    "    \n",
    "    "
   ]
  },
  {
   "cell_type": "code",
   "execution_count": 2,
   "id": "c11f30f8",
   "metadata": {},
   "outputs": [
    {
     "name": "stdout",
     "output_type": "stream",
     "text": [
      "true\n"
     ]
    }
   ],
   "source": [
    "b=22\n",
    "if(a>9):\n",
    "    print(\"true\")\n",
    "else:\n",
    "    print(\"false\")"
   ]
  },
  {
   "cell_type": "code",
   "execution_count": 5,
   "id": "055b49d0",
   "metadata": {},
   "outputs": [
    {
     "name": "stdout",
     "output_type": "stream",
     "text": [
      "Enter the your age\n",
      "12\n",
      "you can not vote\n"
     ]
    }
   ],
   "source": [
    "age=int(input(\"Enter the your age\\n\"))\n",
    "if(age>=18):\n",
    "    print(\"you can vote\")\n",
    "else:\n",
    "    print(\"you can not vote\")\n",
    "    "
   ]
  },
  {
   "cell_type": "markdown",
   "id": "577c82fa",
   "metadata": {},
   "source": [
    "# logical operator"
   ]
  },
  {
   "cell_type": "code",
   "execution_count": 6,
   "id": "22c691df",
   "metadata": {},
   "outputs": [
    {
     "name": "stdout",
     "output_type": "stream",
     "text": [
      "You can work us\n"
     ]
    }
   ],
   "source": [
    "age=45\n",
    "if(age>34 and age<56):\n",
    "    print(\"You can work us\")\n",
    "else:\n",
    "    print(\"You can not work us\")\n",
    "    "
   ]
  },
  {
   "cell_type": "code",
   "execution_count": 7,
   "id": "4fca461a",
   "metadata": {},
   "outputs": [
    {
     "name": "stdout",
     "output_type": "stream",
     "text": [
      "You can work us\n"
     ]
    }
   ],
   "source": [
    "age=45\n",
    "if(age>34 or age<56):\n",
    "    print(\"You can work us\")\n",
    "else:\n",
    "    print(\"You can not work us\")\n",
    "    "
   ]
  },
  {
   "cell_type": "code",
   "execution_count": 8,
   "id": "6ff7f376",
   "metadata": {},
   "outputs": [
    {
     "name": "stdout",
     "output_type": "stream",
     "text": [
      "False\n"
     ]
    }
   ],
   "source": [
    "a=[45,56,9]\n",
    "print(435 in a)"
   ]
  },
  {
   "cell_type": "code",
   "execution_count": 9,
   "id": "f9c5e6e1",
   "metadata": {},
   "outputs": [
    {
     "name": "stdout",
     "output_type": "stream",
     "text": [
      "i am optional\n"
     ]
    }
   ],
   "source": [
    "a=6\n",
    "if(a==7):\n",
    "    print(\"yes\")\n",
    "elif(a>56):\n",
    "    print(\"no and yes\")\n",
    "else:\n",
    "    print(\"i am optional\")"
   ]
  },
  {
   "cell_type": "markdown",
   "id": "8f21199b",
   "metadata": {},
   "source": [
    "# The if statement"
   ]
  },
  {
   "cell_type": "code",
   "execution_count": 1,
   "id": "dce82290",
   "metadata": {},
   "outputs": [
    {
     "name": "stdout",
     "output_type": "stream",
     "text": [
      "enter the number?56\n",
      "Number is even\n"
     ]
    }
   ],
   "source": [
    "num = int(input(\"enter the number?\"))  \n",
    "if num%2 == 0:  \n",
    "    print(\"Number is even\")  "
   ]
  },
  {
   "cell_type": "markdown",
   "id": "bb933338",
   "metadata": {},
   "source": [
    "# Example 2 : Program to print the largest of the three numbers."
   ]
  },
  {
   "cell_type": "code",
   "execution_count": 3,
   "id": "cd345d77",
   "metadata": {},
   "outputs": [
    {
     "name": "stdout",
     "output_type": "stream",
     "text": [
      "Enter a? 8\n",
      "Enter b? 9\n",
      "Enter c? 0\n",
      "b is largest\n"
     ]
    }
   ],
   "source": [
    "a = int(input(\"Enter a? \")) \n",
    "b = int(input(\"Enter b? \")) \n",
    "c = int(input(\"Enter c? \")) \n",
    "if a>b and a>c:  \n",
    "    print(\"a is largest\") \n",
    "if b>a and b>c:  \n",
    "    print(\"b is largest\") \n",
    "if c>a and c>b:  \n",
    "    print(\"c is largest\")"
   ]
  },
  {
   "cell_type": "markdown",
   "id": "a1489386",
   "metadata": {},
   "source": [
    "# The if-else statement"
   ]
  },
  {
   "cell_type": "markdown",
   "id": "b2e06d56",
   "metadata": {},
   "source": [
    "# Example 1 : Program to check whether a person is eligible to vote or not."
   ]
  },
  {
   "cell_type": "code",
   "execution_count": 4,
   "id": "e7fc97d6",
   "metadata": {},
   "outputs": [
    {
     "name": "stdout",
     "output_type": "stream",
     "text": [
      "Enter your age? 45\n",
      "You are eligible to vote !!\n"
     ]
    }
   ],
   "source": [
    "age = int (input(\"Enter your age? \"))  \n",
    "if age>=18:  \n",
    "    print(\"You are eligible to vote !!\") \n",
    "else:  \n",
    "    print(\"Sorry! you have to wait !!\") "
   ]
  },
  {
   "cell_type": "markdown",
   "id": "4733aa83",
   "metadata": {},
   "source": [
    "# Example 2: Program to check whether a number is even or not."
   ]
  },
  {
   "cell_type": "code",
   "execution_count": 5,
   "id": "1ad27493",
   "metadata": {},
   "outputs": [
    {
     "name": "stdout",
     "output_type": "stream",
     "text": [
      "enter the number?45\n",
      "Number is odd...\n"
     ]
    }
   ],
   "source": [
    "num = int(input(\"enter the number?\"))  \n",
    "if num%2 == 0:  \n",
    "    print(\"Number is even...\")  \n",
    "else:  \n",
    "    print(\"Number is odd...\")  "
   ]
  },
  {
   "cell_type": "code",
   "execution_count": 6,
   "id": "422c98d6",
   "metadata": {},
   "outputs": [
    {
     "name": "stdout",
     "output_type": "stream",
     "text": [
      "Enter the number?45\n",
      "number is not equal to 10, 50 or 100\n"
     ]
    }
   ],
   "source": [
    "number = int(input(\"Enter the number?\"))  \n",
    "if number==10:  \n",
    "    print(\"number is equals to 10\")  \n",
    "elif number==50:  \n",
    "    print(\"number is equal to 50\") \n",
    "elif number==100:  \n",
    "    print(\"number is equal to 100\")  \n",
    "else:  \n",
    "    print(\"number is not equal to 10, 50 or 100\")  "
   ]
  },
  {
   "cell_type": "code",
   "execution_count": null,
   "id": "a4c85b95",
   "metadata": {},
   "outputs": [],
   "source": []
  }
 ],
 "metadata": {
  "kernelspec": {
   "display_name": "Python 3",
   "language": "python",
   "name": "python3"
  },
  "language_info": {
   "codemirror_mode": {
    "name": "ipython",
    "version": 3
   },
   "file_extension": ".py",
   "mimetype": "text/x-python",
   "name": "python",
   "nbconvert_exporter": "python",
   "pygments_lexer": "ipython3",
   "version": "3.8.8"
  }
 },
 "nbformat": 4,
 "nbformat_minor": 5
}
