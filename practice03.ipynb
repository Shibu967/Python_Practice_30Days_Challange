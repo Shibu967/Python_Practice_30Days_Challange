{
 "cells": [
  {
   "cell_type": "markdown",
   "id": "b3cc26b4",
   "metadata": {},
   "source": [
    "# List:-"
   ]
  },
  {
   "cell_type": "code",
   "execution_count": 1,
   "id": "8d2c78e1",
   "metadata": {},
   "outputs": [
    {
     "name": "stdout",
     "output_type": "stream",
     "text": [
      "[12, 34, 5, 6, 7, 89]\n"
     ]
    }
   ],
   "source": [
    "l=[12,34,5,6,7,89,]\n",
    "print(l)"
   ]
  },
  {
   "cell_type": "code",
   "execution_count": 2,
   "id": "5d4f1eea",
   "metadata": {},
   "outputs": [
    {
     "name": "stdout",
     "output_type": "stream",
     "text": [
      "12\n"
     ]
    }
   ],
   "source": [
    "print(l[0])"
   ]
  },
  {
   "cell_type": "code",
   "execution_count": 3,
   "id": "22486f7d",
   "metadata": {},
   "outputs": [
    {
     "name": "stdout",
     "output_type": "stream",
     "text": [
      "[100, 34, 5, 6, 7, 89]\n"
     ]
    }
   ],
   "source": [
    "l[0]=100\n",
    "print(l)\n"
   ]
  },
  {
   "cell_type": "code",
   "execution_count": 4,
   "id": "c1a6461c",
   "metadata": {},
   "outputs": [
    {
     "name": "stdout",
     "output_type": "stream",
     "text": [
      "2000\n"
     ]
    }
   ],
   "source": [
    "s=l[4]=2000\n",
    "print(s)"
   ]
  },
  {
   "cell_type": "code",
   "execution_count": 5,
   "id": "f5d10d7c",
   "metadata": {},
   "outputs": [
    {
     "name": "stdout",
     "output_type": "stream",
     "text": [
      "['shibu', 'simran', 'babu', 'sonam', 45]\n"
     ]
    }
   ],
   "source": [
    "friends=[\"shibu\",\"simran\",\"babu\",\"sonam\",45]\n",
    "print(friends)"
   ]
  },
  {
   "cell_type": "markdown",
   "id": "8a87b822",
   "metadata": {},
   "source": [
    "# slicing"
   ]
  },
  {
   "cell_type": "code",
   "execution_count": 6,
   "id": "c520289a",
   "metadata": {},
   "outputs": [
    {
     "name": "stdout",
     "output_type": "stream",
     "text": [
      "['shibu', 'simran', 'babu', 'sonam']\n"
     ]
    }
   ],
   "source": [
    "print(friends[0:4])"
   ]
  },
  {
   "cell_type": "code",
   "execution_count": 7,
   "id": "320e355d",
   "metadata": {},
   "outputs": [
    {
     "name": "stdout",
     "output_type": "stream",
     "text": [
      "[45, 'sonam', 'babu', 'simran', 'shibu']\n"
     ]
    }
   ],
   "source": [
    "print(friends[::-1])"
   ]
  },
  {
   "cell_type": "markdown",
   "id": "87088af9",
   "metadata": {},
   "source": [
    "# List Method"
   ]
  },
  {
   "cell_type": "code",
   "execution_count": 15,
   "id": "a4562e12",
   "metadata": {},
   "outputs": [
    {
     "name": "stdout",
     "output_type": "stream",
     "text": [
      "[16, 23, 34, 56, 69, 78, 80, 90, 90, 123]\n"
     ]
    }
   ],
   "source": [
    "l2=[90,56,80,23,69,16,78,90,123,34]\n",
    "l2.sort()\n",
    "print(l2)"
   ]
  },
  {
   "cell_type": "code",
   "execution_count": 17,
   "id": "bffd03e0",
   "metadata": {},
   "outputs": [
    {
     "name": "stdout",
     "output_type": "stream",
     "text": [
      "[123, 90, 90, 80, 78, 69, 56, 34, 23, 16]\n"
     ]
    }
   ],
   "source": [
    "l2.reverse()\n",
    "print(l2)"
   ]
  },
  {
   "cell_type": "code",
   "execution_count": 18,
   "id": "5336140f",
   "metadata": {},
   "outputs": [
    {
     "name": "stdout",
     "output_type": "stream",
     "text": [
      "[123, 90, 90, 80, 78, 69, 56, 34, 23, 16, 1000000]\n"
     ]
    }
   ],
   "source": [
    "l2.append(1000000)\n",
    "print(l2)"
   ]
  },
  {
   "cell_type": "code",
   "execution_count": 21,
   "id": "a5dc48f5",
   "metadata": {},
   "outputs": [
    {
     "name": "stdout",
     "output_type": "stream",
     "text": [
      "[90000000000, 123, 90, 90, 80, 78, 69, 56, 34, 23, 16, 1000000]\n"
     ]
    }
   ],
   "source": [
    "l2.insert(0,90000000000)\n",
    "print(l2)"
   ]
  },
  {
   "cell_type": "code",
   "execution_count": 2,
   "id": "1542ecd1",
   "metadata": {},
   "outputs": [
    {
     "name": "stdout",
     "output_type": "stream",
     "text": [
      "[]\n"
     ]
    }
   ],
   "source": [
    "l3=[23,34,56,78,9,0,2,56,78,]\n",
    "l3.clear()\n",
    "print(l3)"
   ]
  },
  {
   "cell_type": "code",
   "execution_count": 3,
   "id": "c0d3c51d",
   "metadata": {},
   "outputs": [
    {
     "name": "stdout",
     "output_type": "stream",
     "text": [
      "[]\n"
     ]
    }
   ],
   "source": [
    "l3.copy()\n",
    "print(l3)"
   ]
  },
  {
   "cell_type": "code",
   "execution_count": 10,
   "id": "f485c509",
   "metadata": {},
   "outputs": [
    {
     "name": "stdout",
     "output_type": "stream",
     "text": [
      "['s', 'h', 'i', 'b', 'u']\n"
     ]
    }
   ],
   "source": [
    "l3.extend('shibu')\n",
    "print(l3)"
   ]
  },
  {
   "cell_type": "code",
   "execution_count": 12,
   "id": "82477fee",
   "metadata": {},
   "outputs": [
    {
     "name": "stdout",
     "output_type": "stream",
     "text": [
      "89\n"
     ]
    }
   ],
   "source": [
    "list=[23,4,5,67,89,90,10,100]\n",
    "print(list[4])\n"
   ]
  },
  {
   "cell_type": "code",
   "execution_count": 17,
   "id": "8a838632",
   "metadata": {},
   "outputs": [
    {
     "name": "stdout",
     "output_type": "stream",
     "text": [
      "[45, 78, 90, 10, 1089000, 100]\n"
     ]
    }
   ],
   "source": [
    "list1=[45,78,90,10,100]\n",
    "list1.insert(4,1089000)\n",
    "print(list1)"
   ]
  },
  {
   "cell_type": "code",
   "execution_count": 18,
   "id": "58b3d841",
   "metadata": {},
   "outputs": [
    {
     "name": "stdout",
     "output_type": "stream",
     "text": [
      "[78, 90, 10, 1089000, 100]\n"
     ]
    }
   ],
   "source": [
    "list1.pop(0)\n",
    "print(list1)"
   ]
  },
  {
   "cell_type": "code",
   "execution_count": 23,
   "id": "bb11cae3",
   "metadata": {},
   "outputs": [
    {
     "name": "stdout",
     "output_type": "stream",
     "text": [
      "[78, 90, 10, 1089000]\n"
     ]
    }
   ],
   "source": [
    "list1.remove(100)\n",
    "print(list1)"
   ]
  },
  {
   "cell_type": "code",
   "execution_count": 24,
   "id": "53953168",
   "metadata": {},
   "outputs": [
    {
     "name": "stdout",
     "output_type": "stream",
     "text": [
      "[100, 10, 90, 89, 67, 5, 4, 23]\n"
     ]
    }
   ],
   "source": [
    "list1.reverse()\n",
    "print(list1)"
   ]
  },
  {
   "cell_type": "code",
   "execution_count": null,
   "id": "8ac1c594",
   "metadata": {},
   "outputs": [],
   "source": []
  }
 ],
 "metadata": {
  "kernelspec": {
   "display_name": "Python 3",
   "language": "python",
   "name": "python3"
  },
  "language_info": {
   "codemirror_mode": {
    "name": "ipython",
    "version": 3
   },
   "file_extension": ".py",
   "mimetype": "text/x-python",
   "name": "python",
   "nbconvert_exporter": "python",
   "pygments_lexer": "ipython3",
   "version": "3.8.8"
  }
 },
 "nbformat": 4,
 "nbformat_minor": 5
}
