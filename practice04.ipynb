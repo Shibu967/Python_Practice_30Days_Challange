{
 "cells": [
  {
   "cell_type": "code",
   "execution_count": 2,
   "id": "b9aea2ae",
   "metadata": {},
   "outputs": [
    {
     "name": "stdout",
     "output_type": "stream",
     "text": [
      "Enter the first furistmango\n",
      "Enter the secend furistmango\n",
      "Enter the thirt furistmango\n",
      "Enter the forth furistmqango\n",
      "Enter the fifth  furistmango\n",
      "Enter the sixth furistmango\n",
      "Enter the seventh furistmango\n",
      "['mango', 'mango', 'mango', 'mqango', 'mango', 'mango', 'mango']\n"
     ]
    }
   ],
   "source": [
    "\n",
    "firstfruit=input(\"Enter the first furist\")\n",
    "secendfruit=input(\"Enter the secend furist\")\n",
    "thirtfruit=input(\"Enter the thirt furist\")\n",
    "forthfruit=input(\"Enter the forth furist\")\n",
    "fifthfruit=input(\"Enter the fifth  furist\")\n",
    "sixthfruit=input(\"Enter the sixth furist\")\n",
    "seventhfruit=input(\"Enter the seventh furist\")\n",
    "list=[firstfruit,secendfruit,thirtfruit,forthfruit,fifthfruit,sixthfruit,seventhfruit]\n",
    "print(list)"
   ]
  },
  {
   "cell_type": "code",
   "execution_count": 3,
   "id": "ef85f751",
   "metadata": {},
   "outputs": [
    {
     "name": "stdout",
     "output_type": "stream",
     "text": [
      "[50, 58, 60, 80, 89, 90]\n"
     ]
    }
   ],
   "source": [
    "marks=[80,89,90,60,50,58]\n",
    "marks.sort()\n",
    "print(marks)"
   ]
  },
  {
   "cell_type": "code",
   "execution_count": 8,
   "id": "2a4f8dc4",
   "metadata": {},
   "outputs": [
    {
     "name": "stdout",
     "output_type": "stream",
     "text": [
      "Enter the marks09\n",
      "Enter the marks8\n",
      "Enter the marks56\n",
      "Enter the marks890\n",
      "Enter the marks78\n",
      "Enter the marks234\n",
      "[8, 9, 56, 78, 234, 890]\n"
     ]
    }
   ],
   "source": [
    "s1=int(input(\"Enter the marks\"))\n",
    "s2=int(input(\"Enter the marks\"))\n",
    "s3=int(input(\"Enter the marks\"))\n",
    "s4=int(input(\"Enter the marks\"))\n",
    "s5=int(input(\"Enter the marks\"))\n",
    "s6=int(input(\"Enter the marks\"))\n",
    "marks=[s1,s2,s3,s4,s5,s6,]\n",
    "marks.sort()\n",
    "print(marks)"
   ]
  },
  {
   "cell_type": "code",
   "execution_count": 10,
   "id": "a30d50a0",
   "metadata": {},
   "outputs": [
    {
     "name": "stdout",
     "output_type": "stream",
     "text": [
      "266\n"
     ]
    }
   ],
   "source": [
    "list2=[34,56,78,98]\n",
    "print(list2[0]+list2[1]+list2[2]+list2[3])"
   ]
  },
  {
   "cell_type": "code",
   "execution_count": 13,
   "id": "4c97d58e",
   "metadata": {},
   "outputs": [
    {
     "name": "stdout",
     "output_type": "stream",
     "text": [
      "3\n"
     ]
    }
   ],
   "source": [
    "a=(7,0,8,0,0,9)\n",
    "s=a.count(0)\n",
    "print(s)"
   ]
  },
  {
   "cell_type": "code",
   "execution_count": null,
   "id": "7b2e630c",
   "metadata": {},
   "outputs": [],
   "source": []
  }
 ],
 "metadata": {
  "kernelspec": {
   "display_name": "Python 3",
   "language": "python",
   "name": "python3"
  },
  "language_info": {
   "codemirror_mode": {
    "name": "ipython",
    "version": 3
   },
   "file_extension": ".py",
   "mimetype": "text/x-python",
   "name": "python",
   "nbconvert_exporter": "python",
   "pygments_lexer": "ipython3",
   "version": "3.8.8"
  }
 },
 "nbformat": 4,
 "nbformat_minor": 5
}
