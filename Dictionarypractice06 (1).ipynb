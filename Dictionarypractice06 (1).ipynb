{
 "cells": [
  {
   "cell_type": "code",
   "execution_count": 1,
   "id": "068b5ffe",
   "metadata": {},
   "outputs": [],
   "source": [
    "import pandas as pd"
   ]
  },
  {
   "cell_type": "code",
   "execution_count": 2,
   "id": "d3a8b964",
   "metadata": {},
   "outputs": [
    {
     "data": {
      "text/plain": [
       "{'first Name': 'Shibu', 'secend name': 'Kumari', 'roll no.': 'first'}"
      ]
     },
     "execution_count": 2,
     "metadata": {},
     "output_type": "execute_result"
    }
   ],
   "source": [
    "myDict={\n",
    "    \"first Name\":\"Shibu\",\n",
    "    \"secend name\":\"Kumari\",\n",
    "    \"roll no.\":\"first\"\n",
    "    \n",
    "    \n",
    "}\n",
    "myDict"
   ]
  },
  {
   "cell_type": "code",
   "execution_count": 6,
   "id": "b74d5c36",
   "metadata": {},
   "outputs": [
    {
     "name": "stdout",
     "output_type": "stream",
     "text": [
      "Shibu\n"
     ]
    }
   ],
   "source": [
    "print(myDict['first Name'])"
   ]
  },
  {
   "cell_type": "code",
   "execution_count": 8,
   "id": "569619ae",
   "metadata": {},
   "outputs": [
    {
     "name": "stdout",
     "output_type": "stream",
     "text": [
      "Kumari\n"
     ]
    }
   ],
   "source": [
    "print(myDict['secend name'])"
   ]
  },
  {
   "cell_type": "code",
   "execution_count": 9,
   "id": "1b56ae85",
   "metadata": {},
   "outputs": [
    {
     "name": "stdout",
     "output_type": "stream",
     "text": [
      "dict_keys(['first Name', 'secend name', 'roll no.'])\n"
     ]
    }
   ],
   "source": [
    "print(myDict.keys())"
   ]
  },
  {
   "cell_type": "code",
   "execution_count": 10,
   "id": "eba38a00",
   "metadata": {},
   "outputs": [
    {
     "name": "stdout",
     "output_type": "stream",
     "text": [
      "<class 'dict_keys'>\n"
     ]
    }
   ],
   "source": [
    "print(type(myDict.keys()))"
   ]
  },
  {
   "cell_type": "code",
   "execution_count": 12,
   "id": "991bdee0",
   "metadata": {},
   "outputs": [
    {
     "name": "stdout",
     "output_type": "stream",
     "text": [
      "['first Name', 'secend name', 'roll no.']\n"
     ]
    }
   ],
   "source": [
    "print(list(myDict.keys()))"
   ]
  },
  {
   "cell_type": "code",
   "execution_count": 13,
   "id": "24101123",
   "metadata": {},
   "outputs": [
    {
     "name": "stdout",
     "output_type": "stream",
     "text": [
      "dict_values(['Shibu', 'Kumari', 'first'])\n"
     ]
    }
   ],
   "source": [
    "print(myDict.values())"
   ]
  },
  {
   "cell_type": "code",
   "execution_count": 14,
   "id": "9ca00538",
   "metadata": {},
   "outputs": [
    {
     "name": "stdout",
     "output_type": "stream",
     "text": [
      "dict_items([('first Name', 'Shibu'), ('secend name', 'Kumari'), ('roll no.', 'first')])\n"
     ]
    }
   ],
   "source": [
    "print(myDict.items())"
   ]
  },
  {
   "cell_type": "code",
   "execution_count": 15,
   "id": "d656b4d3",
   "metadata": {},
   "outputs": [
    {
     "name": "stdout",
     "output_type": "stream",
     "text": [
      "{'first Name': 'Shibu', 'secend name': 'Kumari', 'roll no.': 'first', 'simran': 'sister'}\n"
     ]
    }
   ],
   "source": [
    "updateDict={\n",
    "    \"simran\":\"sister\"\n",
    "}\n",
    "myDict.update(updateDict)\n",
    "print(myDict)"
   ]
  },
  {
   "cell_type": "code",
   "execution_count": 6,
   "id": "aba7b530",
   "metadata": {},
   "outputs": [
    {
     "name": "stdout",
     "output_type": "stream",
     "text": [
      "Options are dict_keys(['Aam', 'khana', 'Rona', 'Padhna'])\n",
      "Enter the Hindi Word\n",
      "Aam\n",
      "The meaning of your word is: mango\n"
     ]
    }
   ],
   "source": [
    "Dict1={\n",
    "    \"Aam\":\"mango\",\n",
    "    \"khana\":\"eat\",\n",
    "    \"Rona\":\"weep\",\n",
    "    \"Padhna\":\"Read\"\n",
    "    \n",
    "    \n",
    "}\n",
    "print(\"Options are\",Dict1.keys())\n",
    "a=input(\"Enter the Hindi Word\\n\")\n",
    "print(\"The meaning of your word is:\",Dict1[a])"
   ]
  },
  {
   "cell_type": "code",
   "execution_count": 8,
   "id": "6e34c330",
   "metadata": {},
   "outputs": [
    {
     "name": "stdout",
     "output_type": "stream",
     "text": [
      "Enter thr number\n",
      "88\n",
      "Enter thr number\n",
      "78\n",
      "Enter thr number\n",
      "88\n",
      "Enter thr number\n",
      "66\n",
      "Enter thr number\n",
      "66\n",
      "Enter thr number\n",
      "89\n",
      "Enter thr number\n",
      "88\n",
      "Enter thr number\n",
      "99\n",
      "{66, 99, 78, 88, 89}\n"
     ]
    }
   ],
   "source": [
    "num1=int(input(\"Enter thr number\\n\"))\n",
    "num2=int(input(\"Enter thr number\\n\"))\n",
    "num3=int(input(\"Enter thr number\\n\"))\n",
    "num4=int(input(\"Enter thr number\\n\"))\n",
    "num5=int(input(\"Enter thr number\\n\"))\n",
    "num6=int(input(\"Enter thr number\\n\"))\n",
    "num7=int(input(\"Enter thr number\\n\"))\n",
    "num8=int(input(\"Enter thr number\\n\"))\n",
    "Numbers={num1,num2,num3,num4,num5,num6,num7,num8}\n",
    "print(Numbers)"
   ]
  },
  {
   "cell_type": "code",
   "execution_count": 10,
   "id": "78741381",
   "metadata": {},
   "outputs": [
    {
     "name": "stdout",
     "output_type": "stream",
     "text": [
      "{18, 18.1, '18'}\n"
     ]
    }
   ],
   "source": [
    "s={18,\"18\",18.1}\n",
    "print(s)"
   ]
  },
  {
   "cell_type": "code",
   "execution_count": 11,
   "id": "648fda0a",
   "metadata": {},
   "outputs": [
    {
     "name": "stdout",
     "output_type": "stream",
     "text": [
      "2\n"
     ]
    }
   ],
   "source": [
    "s=set()\n",
    "s.add(20)\n",
    "s.add(20.0)\n",
    "s.add(\"20\")\n",
    "print(len(s))"
   ]
  },
  {
   "cell_type": "code",
   "execution_count": 12,
   "id": "cb41d494",
   "metadata": {},
   "outputs": [
    {
     "name": "stdout",
     "output_type": "stream",
     "text": [
      "Enter your luaguage Shibu\n",
      "ENGLISH\n",
      "Enter your luaguage simran\n",
      "HINDI\n",
      "Enter your luaguage babu\n",
      "BHJPURI\n",
      "Enter your luaguage sonam\n",
      "HINDI\n",
      "{'Shibu': 'ENGLISH', 'simran': 'HINDI', 'babu': 'BHJPURI', 'sonam': 'HINDI'}\n"
     ]
    }
   ],
   "source": [
    "FL={}\n",
    "a=input(\"Enter your luaguage Shibu\\n\")\n",
    "b=input(\"Enter your luaguage simran\\n\")\n",
    "c=input(\"Enter your luaguage babu\\n\")\n",
    "d=input(\"Enter your luaguage sonam\\n\")\n",
    "FL['Shibu']=a\n",
    "FL['simran']=b\n",
    "FL['babu']=c\n",
    "FL['sonam']=d\n",
    "print(FL)\n"
   ]
  },
  {
   "cell_type": "code",
   "execution_count": null,
   "id": "4e0564f1",
   "metadata": {},
   "outputs": [],
   "source": []
  }
 ],
 "metadata": {
  "kernelspec": {
   "display_name": "Python 3",
   "language": "python",
   "name": "python3"
  },
  "language_info": {
   "codemirror_mode": {
    "name": "ipython",
    "version": 3
   },
   "file_extension": ".py",
   "mimetype": "text/x-python",
   "name": "python",
   "nbconvert_exporter": "python",
   "pygments_lexer": "ipython3",
   "version": "3.8.8"
  }
 },
 "nbformat": 4,
 "nbformat_minor": 5
}
